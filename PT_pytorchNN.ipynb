{
 "cells": [
  {
   "cell_type": "code",
   "execution_count": 1,
   "id": "7a32a552",
   "metadata": {},
   "outputs": [],
   "source": [
    "import torch\n",
    "import torch.nn as nn\n",
    "import torch.nn.functional as F\n",
    "import numpy as np\n",
    "import pandas as pd\n",
    "from models import GFNN\n",
    "from torch.utils.data import Dataset, DataLoader\n",
    "from tqdm import tqdm\n",
    "import matplotlib.pyplot as plt\n",
    "from sklearn.metrics import classification_report\n",
    "from sklearn.metrics import confusion_matrix\n",
    "from sklearn.preprocessing import StandardScaler\n",
    "import seaborn as sns\n",
    "%matplotlib inline"
   ]
  },
  {
   "cell_type": "code",
   "execution_count": 2,
   "id": "0983459a",
   "metadata": {},
   "outputs": [],
   "source": [
    "# import data from pickle file\n",
    "data = pd.read_pickle(\"SimulatedWaves.pkl\")\n",
    "wave = np.array(data['Wave'])\n",
    "wave = [np.array(x) for x in wave]\n",
    "NumPh = np.array([len(x) for x in data['Times']])"
   ]
  },
  {
   "cell_type": "code",
   "execution_count": 3,
   "id": "adaa7188",
   "metadata": {},
   "outputs": [],
   "source": [
    "# Separate train data and test data\n",
    "wave_train = np.array(wave[:7500])\n",
    "NumPh_train = np.array(NumPh[:7500])\n",
    "wave_test = np.array(wave[7500:])\n",
    "NumPh_test = np.array(NumPh[7500:])"
   ]
  },
  {
   "cell_type": "code",
   "execution_count": null,
   "id": "a245941a",
   "metadata": {},
   "outputs": [],
   "source": []
  },
  {
   "cell_type": "markdown",
   "id": "ba04d919",
   "metadata": {},
   "source": [
    "## NN model try"
   ]
  },
  {
   "cell_type": "code",
   "execution_count": 4,
   "id": "0466dac2",
   "metadata": {},
   "outputs": [],
   "source": [
    "# Parameters\n",
    "layer_num, n_hidden, batch_size, learning_rate = 5, 1000, 100, 1*10**(-4)\n",
    "n_input, n_out = 100, 1"
   ]
  },
  {
   "cell_type": "code",
   "execution_count": 5,
   "id": "3164e954",
   "metadata": {},
   "outputs": [],
   "source": [
    "class Data(Dataset):\n",
    "    def __init__(self, X, y):\n",
    "        self.X = torch.from_numpy(X.astype(np.float32))\n",
    "        self.y = torch.from_numpy(y.astype(np.float32))\n",
    "        self.len = self.X.shape[0]\n",
    "       \n",
    "    def __getitem__(self, index):\n",
    "        return self.X[index], self.y[index]\n",
    "   \n",
    "    def __len__(self):\n",
    "        return self.len\n",
    "    \n",
    "scaler = StandardScaler()\n",
    "wave_norm = scaler.fit_transform(wave_train)  \n",
    "train_data = Data(wave_norm, NumPh_train)\n",
    "train_dataloader = DataLoader(dataset=train_data, batch_size=batch_size, shuffle=True)\n",
    "test_data = Data(wave_test, NumPh_test)\n",
    "test_dataloader = DataLoader(dataset=test_data, batch_size=batch_size, shuffle=True)"
   ]
  },
  {
   "cell_type": "code",
   "execution_count": 6,
   "id": "303edbfa",
   "metadata": {},
   "outputs": [],
   "source": [
    "# for batch, (X, y) in enumerate(train_dataloader):\n",
    "#     print(f\"Batch: {batch+1}\")\n",
    "#     print(f\"X shape: {X.shape}\")\n",
    "#     print(f\"y shape: {y.shape}\")\n",
    "#     break"
   ]
  },
  {
   "cell_type": "code",
   "execution_count": 7,
   "id": "ebcf1cf6",
   "metadata": {},
   "outputs": [],
   "source": [
    "model = GFNN(layer_num, n_input, n_hidden, n_out)\n",
    "#print(model)"
   ]
  },
  {
   "cell_type": "code",
   "execution_count": 8,
   "id": "1be2ea03",
   "metadata": {},
   "outputs": [],
   "source": [
    "loss_fn = nn.MSELoss()\n",
    "optimizer = torch.optim.Adam(model.parameters(), lr=learning_rate)"
   ]
  },
  {
   "cell_type": "code",
   "execution_count": 9,
   "id": "e165b13c",
   "metadata": {},
   "outputs": [
    {
     "name": "stderr",
     "output_type": "stream",
     "text": [
      "100%|███████████████████████████████████████████| 20/20 [00:30<00:00,  1.53s/it]\n"
     ]
    }
   ],
   "source": [
    "num_epochs = 20\n",
    "loss_values = []\n",
    "\n",
    "\n",
    "for epoch in tqdm(range(num_epochs)):\n",
    "    for X, y in train_dataloader:\n",
    "        # zero the parameter gradients\n",
    "        optimizer.zero_grad()\n",
    "       \n",
    "        # forward + backward + optimize\n",
    "        pred = model(X)\n",
    "        loss = loss_fn(pred, y.unsqueeze(-1))\n",
    "        loss_values.append(loss.item())\n",
    "        loss.backward()\n",
    "        optimizer.step()"
   ]
  },
  {
   "cell_type": "code",
   "execution_count": 10,
   "id": "27ab0c6e",
   "metadata": {},
   "outputs": [
    {
     "data": {
      "image/png": "[encoded data removed]",
      "text/plain": [
       "<Figure size 800x500 with 1 Axes>"
      ]
     },
     "metadata": {},
     "output_type": "display_data"
    }
   ],
   "source": [
    "step = np.linspace(0, 20, 1500)\n",
    "\n",
    "fig, ax = plt.subplots(figsize=(8,5))\n",
    "plt.plot(step, np.array(loss_values))\n",
    "plt.title(\"Step-wise Loss\")\n",
    "plt.xlabel(\"Epochs\")\n",
    "plt.ylabel(\"Loss\")\n",
    "#plt.yscale('log')\n",
    "plt.show()"
   ]
  },
  {
   "cell_type": "code",
   "execution_count": 11,
   "id": "d93f9938",
   "metadata": {},
   "outputs": [
    {
     "name": "stdout",
     "output_type": "stream",
     "text": [
      "Accuracy of the network on the 7500 train instances: 71%\n"
     ]
    }
   ],
   "source": [
    "y_pred, y_test,correct,total = [],[],0,0\n",
    "with torch.no_grad():\n",
    "    for X, y in train_dataloader:\n",
    "        outputs = model(X)\n",
    "        outputs = np.array(outputs)\n",
    "        for i in range(len(outputs)):\n",
    "            y_pred.append(int(round(outputs[i][0])))\n",
    "            if(int(round(outputs[i][0]))==y[i]):\n",
    "                correct+=1\n",
    "            y_test.append(y[i])\n",
    "        total += len(y)\n",
    "print(f'Accuracy of the network on the 7500 train instances: {100 * correct // total}%')"
   ]
  },
  {
   "cell_type": "code",
   "execution_count": 12,
   "id": "cf5622ab",
   "metadata": {},
   "outputs": [
    {
     "name": "stdout",
     "output_type": "stream",
     "text": [
      "Accuracy of the network on the 2500 test instances: 63%\n"
     ]
    }
   ],
   "source": [
    "y_pred, y_test,correct,total = [],[],0,0\n",
    "with torch.no_grad():\n",
    "    for X, y in test_dataloader:\n",
    "        outputs = model(X)\n",
    "        outputs = np.array(outputs)\n",
    "        for i in range(len(outputs)):\n",
    "            #print(round(outputs[i][0]),outputs[i][0],y[i])\n",
    "            y_pred.append(int(round(outputs[i][0])))\n",
    "            if(int(round(outputs[i][0]))==y[i]):\n",
    "                correct+=1\n",
    "            y_test.append(y[i])\n",
    "        total += len(y)\n",
    "print(f'Accuracy of the network on the 2500 test instances: {100 * correct // total}%')"
   ]
  },
  {
   "cell_type": "code",
   "execution_count": 13,
   "id": "3efebc93",
   "metadata": {},
   "outputs": [
    {
     "data": {
      "image/png": "[encoded data removed]",
      "text/plain": [
       "<Figure size 800x500 with 1 Axes>"
      ]
     },
     "metadata": {},
     "output_type": "display_data"
    }
   ],
   "source": [
    "cf_matrix = confusion_matrix(y_test, y_pred)\n",
    "\n",
    "plt.subplots(figsize=(8, 5))\n",
    "\n",
    "sns.heatmap(cf_matrix, annot=True, cbar=False, fmt=\"g\",cmap = 'BuPu')\n",
    "\n",
    "plt.show()"
   ]
  },
  {
   "cell_type": "markdown",
   "id": "85430d86",
   "metadata": {},
   "source": [
    "## Tuning\n",
    "1. small data set of 500 points, 100 points in each class \n",
    "2. loss -> crossentropy loss, optimizer -> adam，learning rate -> [3e-5, 1e-4, 3e-4, 1e-3, 3e-3]\n",
    "3. data normalization -> sklearn, standardscalerx\n",
    "4.Hyperparameter：layer_num = 5, n_hidden = 1000, batch_size = 100"
   ]
  },
  {
   "cell_type": "code",
   "execution_count": 4,
   "id": "e0838fa2",
   "metadata": {},
   "outputs": [],
   "source": [
    "# prepare a small set of data, number of 100 in each class\n",
    "NumPh_small = []\n",
    "wave_small = []\n",
    "c1, c2, c3, c4, c5 = 0,0,0,0,0\n",
    "for i in range(len(NumPh)):\n",
    "    if(NumPh[i]==1 and c1<100):\n",
    "        wave_small.append(wave[i])\n",
    "        NumPh_small.append(NumPh[i])\n",
    "        c1+=1\n",
    "    if(NumPh[i]==2 and c2<100):\n",
    "        wave_small.append(wave[i])\n",
    "        NumPh_small.append(NumPh[i])\n",
    "        c2+=1\n",
    "    if(NumPh[i]==3 and c3<100):\n",
    "        wave_small.append(wave[i])\n",
    "        NumPh_small.append(NumPh[i])\n",
    "        c3+=1\n",
    "    if(NumPh[i]==4 and c4<100):\n",
    "        wave_small.append(wave[i])\n",
    "        NumPh_small.append(NumPh[i])\n",
    "        c4+=1\n",
    "    if(NumPh[i]==5 and c5<100):\n",
    "        wave_small.append(wave[i])\n",
    "        NumPh_small.append(NumPh[i])\n",
    "        c5+=1\n",
    "wave_small = np.array(wave_small)\n",
    "NumPh_small = np.array(NumPh_small)"
   ]
  },
  {
   "cell_type": "code",
   "execution_count": 5,
   "id": "200197a2",
   "metadata": {},
   "outputs": [
    {
     "name": "stdout",
     "output_type": "stream",
     "text": [
      "(500, 100)\n",
      "100\n"
     ]
    }
   ],
   "source": [
    "print(wave_small.shape)\n",
    "print(len(wave_small[0]))"
   ]
  },
  {
   "cell_type": "code",
   "execution_count": 6,
   "id": "b81e08fe",
   "metadata": {},
   "outputs": [],
   "source": [
    "# Parameters\n",
    "layer_num, n_hidden, batch_size, learning_rate = 5, 1000, 100, 1*10**(-4)\n",
    "n_input, n_out = 100, 1"
   ]
  },
  {
   "cell_type": "code",
   "execution_count": 7,
   "id": "0b21b0e7",
   "metadata": {},
   "outputs": [],
   "source": [
    "# data normalize\n",
    "scaler = StandardScaler()\n",
    "wave_small_norm = scaler.fit_transform(wave_small)"
   ]
  },
  {
   "cell_type": "code",
   "execution_count": 8,
   "id": "bee03a48",
   "metadata": {},
   "outputs": [],
   "source": [
    "class Data(Dataset):\n",
    "    def __init__(self, X, y):\n",
    "        self.X = torch.from_numpy(X.astype(np.float32))\n",
    "        self.y = torch.from_numpy(y.astype(np.float32))\n",
    "        self.len = self.X.shape[0]\n",
    "       \n",
    "    def __getitem__(self, index):\n",
    "        return self.X[index], self.y[index]\n",
    "   \n",
    "    def __len__(self):\n",
    "        return self.len\n",
    "# Prepare data set\n",
    "train_data = Data(wave_small_norm, NumPh_small)\n",
    "train_dataloader = DataLoader(dataset=train_data, batch_size=batch_size, shuffle=True)"
   ]
  },
  {
   "cell_type": "code",
   "execution_count": 9,
   "id": "e7f44490",
   "metadata": {},
   "outputs": [],
   "source": [
    "model = GFNN(layer_num, n_input, n_hidden, n_out)"
   ]
  },
  {
   "cell_type": "markdown",
   "id": "ce120d94",
   "metadata": {},
   "source": [
    "### Tuning with MSE loss"
   ]
  },
  {
   "cell_type": "code",
   "execution_count": 10,
   "id": "bbf6f903",
   "metadata": {},
   "outputs": [],
   "source": [
    "loss_fn = nn.MSELoss()\n",
    "#loss_fn = nn.CrossEntropyLoss(()\n",
    "optimizer = torch.optim.Adam(model.parameters(), lr=learning_rate)"
   ]
  },
  {
   "cell_type": "code",
   "execution_count": 11,
   "id": "827884bc",
   "metadata": {},
   "outputs": [
    {
     "name": "stderr",
     "output_type": "stream",
     "text": [
      "100%|███████████████████████████████████████████| 50/50 [00:05<00:00,  9.86it/s]\n"
     ]
    }
   ],
   "source": [
    "num_epochs = 50\n",
    "loss_values = []\n",
    "\n",
    "\n",
    "for epoch in tqdm(range(num_epochs)):\n",
    "    for X, y in train_dataloader:\n",
    "        # zero the parameter gradients\n",
    "        optimizer.zero_grad()\n",
    "        # forward + backward + optimize\n",
    "        pred = model(X)\n",
    "        loss = loss_fn(pred,y.unsqueeze(-1))\n",
    "        loss_values.append(loss.item())\n",
    "        loss.backward()\n",
    "        optimizer.step()"
   ]
  },
  {
   "cell_type": "code",
   "execution_count": 12,
   "id": "72aaced0",
   "metadata": {},
   "outputs": [
    {
     "data": {
      "image/png": "[encoded data removed]",
      "text/plain": [
       "<Figure size 800x500 with 1 Axes>"
      ]
     },
     "metadata": {},
     "output_type": "display_data"
    }
   ],
   "source": [
    "step = np.linspace(0, 50, 250)\n",
    "\n",
    "fig, ax = plt.subplots(figsize=(8,5))\n",
    "plt.plot(step, np.array(loss_values))\n",
    "plt.title(\"Step-wise Loss\")\n",
    "plt.xlabel(\"Epochs\")\n",
    "plt.ylabel(\"Loss\")\n",
    "#plt.yscale('log')\n",
    "plt.show()"
   ]
  },
  {
   "cell_type": "code",
   "execution_count": 13,
   "id": "f92ba12b",
   "metadata": {},
   "outputs": [
    {
     "name": "stdout",
     "output_type": "stream",
     "text": [
      "Accuracy of the network on the 500 train instances: 94%\n"
     ]
    }
   ],
   "source": [
    "y_pred, y_test,correct,total = [],[],0,0\n",
    "with torch.no_grad():\n",
    "    for X, y in train_dataloader:\n",
    "        outputs = model(X)\n",
    "        outputs = np.array(outputs)\n",
    "        for i in range(len(outputs)):\n",
    "            y_pred.append(int(round(outputs[i][0])))\n",
    "            if(int(round(outputs[i][0]))==y[i]):\n",
    "                correct+=1\n",
    "            y_test.append(y[i])\n",
    "        total += len(y)\n",
    "print(f'Accuracy of the network on the 500 train instances: {100 * correct // total}%')"
   ]
  },
  {
   "cell_type": "markdown",
   "id": "09b213b2",
   "metadata": {},
   "source": [
    "### Tuning with crossEntropy loss"
   ]
  },
  {
   "cell_type": "code",
   "execution_count": 11,
   "id": "28a96a58",
   "metadata": {},
   "outputs": [],
   "source": [
    "loss_fn = nn.CrossEntropyLoss()\n",
    "optimizer = torch.optim.Adam(model.parameters(), lr=learning_rate)"
   ]
  },
  {
   "cell_type": "code",
   "execution_count": 12,
   "id": "f5863cf9",
   "metadata": {},
   "outputs": [
    {
     "name": "stderr",
     "output_type": "stream",
     "text": [
      "100%|███████████████████████████████████████████| 50/50 [00:05<00:00,  9.46it/s]\n"
     ]
    }
   ],
   "source": [
    "num_epochs = 50\n",
    "loss_values = []\n",
    "\n",
    "\n",
    "for epoch in tqdm(range(num_epochs)):\n",
    "    for X, y in train_dataloader:\n",
    "        # zero the parameter gradients\n",
    "        optimizer.zero_grad()\n",
    "        # forward + backward + optimize\n",
    "        pred = model(X)\n",
    "        loss = loss_fn(pred,y.unsqueeze(-1))\n",
    "        loss_values.append(loss.item())\n",
    "        loss.backward()\n",
    "        optimizer.step()"
   ]
  },
  {
   "cell_type": "code",
   "execution_count": 13,
   "id": "30607a2f",
   "metadata": {},
   "outputs": [
    {
     "data": {
      "image/png": "[encoded data removed]",
      "text/plain": [
       "<Figure size 800x500 with 1 Axes>"
      ]
     },
     "metadata": {},
     "output_type": "display_data"
    }
   ],
   "source": [
    "step = np.linspace(0, 50, 250)\n",
    "\n",
    "fig, ax = plt.subplots(figsize=(8,5))\n",
    "plt.plot(step, np.array(loss_values))\n",
    "plt.title(\"Step-wise Loss\")\n",
    "plt.xlabel(\"Epochs\")\n",
    "plt.ylabel(\"Loss\")\n",
    "#plt.yscale('log')\n",
    "plt.show()"
   ]
  },
  {
   "cell_type": "code",
   "execution_count": 14,
   "id": "511ed09b",
   "metadata": {},
   "outputs": [
    {
     "name": "stdout",
     "output_type": "stream",
     "text": [
      "Accuracy of the network on the 500 train instances: 0%\n"
     ]
    }
   ],
   "source": [
    "y_pred, y_test,correct,total = [],[],0,0\n",
    "with torch.no_grad():\n",
    "    for X, y in train_dataloader:\n",
    "        outputs = model(X)\n",
    "        outputs = np.array(outputs)\n",
    "        for i in range(len(outputs)):\n",
    "            y_pred.append(int(round(outputs[i][0])))\n",
    "            if(int(round(outputs[i][0]))==y[i]):\n",
    "                correct+=1\n",
    "            y_test.append(y[i])\n",
    "        total += len(y)\n",
    "print(f'Accuracy of the network on the 500 train instances: {100 * correct // total}%')"
   ]
  },
  {
   "cell_type": "code",
   "execution_count": null,
   "id": "af2ea87e",
   "metadata": {},
   "outputs": [],
   "source": []
  },
  {
   "cell_type": "code",
   "execution_count": null,
   "id": "ec754ce5",
   "metadata": {},
   "outputs": [],
   "source": []
  },
  {
   "cell_type": "code",
   "execution_count": null,
   "id": "34ef1393",
   "metadata": {},
   "outputs": [],
   "source": []
  }
 ],
 "metadata": {
  "kernelspec": {
   "display_name": "Pytorchgogogo",
   "language": "python",
   "name": "pytorchgogogo"
  },
  "language_info": {
   "codemirror_mode": {
    "name": "ipython",
    "version": 3
   },
   "file_extension": ".py",
   "mimetype": "text/x-python",
   "name": "python",
   "nbconvert_exporter": "python",
   "pygments_lexer": "ipython3",
   "version": "3.9.13"
  }
 },
 "nbformat": 4,
 "nbformat_minor": 5
}
