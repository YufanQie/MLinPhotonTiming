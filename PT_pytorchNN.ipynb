{
 "cells": [
  {
   "cell_type": "code",
   "execution_count": 1,
   "id": "7a32a552",
   "metadata": {},
   "outputs": [],
   "source": [
    "import torch\n",
    "import torch.nn as nn\n",
    "import torch.nn.functional as F\n",
    "import numpy as np\n",
    "import pandas as pd\n",
    "from models import GFNN\n",
    "from torch.utils.data import Dataset, DataLoader\n",
    "from tqdm import tqdm\n",
    "import matplotlib.pyplot as plt\n",
    "from sklearn.metrics import classification_report\n",
    "from sklearn.metrics import confusion_matrix\n",
    "import seaborn as sns\n",
    "%matplotlib inline"
   ]
  },
  {
   "cell_type": "code",
   "execution_count": 2,
   "id": "0983459a",
   "metadata": {},
   "outputs": [],
   "source": [
    "# import data from pickle file\n",
    "data = pd.read_pickle(\"SimulatedWaves.pkl\")\n",
    "wave = np.array(data['Wave'])\n",
    "wave = [np.array(x) for x in wave]\n",
    "NumPh = np.array([len(x) for x in data['Times']])"
   ]
  },
  {
   "cell_type": "code",
   "execution_count": 3,
   "id": "adaa7188",
   "metadata": {},
   "outputs": [],
   "source": [
    "# Separate train data and test data\n",
    "wave_train = np.array(wave[:7500])\n",
    "NumPh_train = np.array(NumPh[:7500])\n",
    "wave_test = np.array(wave[7500:])\n",
    "NumPh_test = np.array(NumPh[7500:])"
   ]
  },
  {
   "cell_type": "code",
   "execution_count": null,
   "id": "77a7a028",
   "metadata": {},
   "outputs": [],
   "source": []
  },
  {
   "cell_type": "markdown",
   "id": "f8a2f3bd",
   "metadata": {},
   "source": [
    "### NN model try"
   ]
  },
  {
   "cell_type": "code",
   "execution_count": 4,
   "id": "a6e438d9",
   "metadata": {},
   "outputs": [],
   "source": [
    "# Parameters\n",
    "layer_num, n_hidden, batch_size, learning_rate = 10, 50, 10, 0.1\n",
    "n_input, n_out = 100, 1"
   ]
  },
  {
   "cell_type": "code",
   "execution_count": 5,
   "id": "6c779c4d",
   "metadata": {},
   "outputs": [],
   "source": [
    "class Data(Dataset):\n",
    "    def __init__(self, X, y):\n",
    "        self.X = torch.from_numpy(X.astype(np.float32))\n",
    "        self.y = torch.from_numpy(y.astype(np.float32))\n",
    "        self.len = self.X.shape[0]\n",
    "       \n",
    "    def __getitem__(self, index):\n",
    "        return self.X[index], self.y[index]\n",
    "   \n",
    "    def __len__(self):\n",
    "        return self.len\n",
    "    \n",
    "train_data = Data(wave_train, NumPh_train)\n",
    "train_dataloader = DataLoader(dataset=train_data, batch_size=batch_size, shuffle=True)\n",
    "test_data = Data(wave_test, NumPh_test)\n",
    "test_dataloader = DataLoader(dataset=test_data, batch_size=batch_size, shuffle=True)"
   ]
  },
  {
   "cell_type": "code",
   "execution_count": 6,
   "id": "6b9f95c8",
   "metadata": {},
   "outputs": [],
   "source": [
    "# for batch, (X, y) in enumerate(train_dataloader):\n",
    "#     print(f\"Batch: {batch+1}\")\n",
    "#     print(f\"X shape: {X.shape}\")\n",
    "#     print(f\"y shape: {y.shape}\")\n",
    "#     break"
   ]
  },
  {
   "cell_type": "code",
   "execution_count": 7,
   "id": "d6bf6bab",
   "metadata": {},
   "outputs": [],
   "source": [
    "model = GFNN(layer_num, n_input, n_hidden, n_out)\n",
    "#print(model)"
   ]
  },
  {
   "cell_type": "code",
   "execution_count": 8,
   "id": "87037588",
   "metadata": {},
   "outputs": [],
   "source": [
    "loss_fn = nn.MSELoss()\n",
    "optimizer = torch.optim.SGD(model.parameters(), lr=learning_rate)"
   ]
  },
  {
   "cell_type": "code",
   "execution_count": 9,
   "id": "28e2d6e2",
   "metadata": {},
   "outputs": [
    {
     "name": "stderr",
     "output_type": "stream",
     "text": [
      "100%|███████████████████████████████████████████| 50/50 [01:40<00:00,  2.00s/it]\n"
     ]
    }
   ],
   "source": [
    "num_epochs = 50\n",
    "loss_values = []\n",
    "\n",
    "\n",
    "for epoch in tqdm(range(num_epochs)):\n",
    "    for X, y in train_dataloader:\n",
    "        # zero the parameter gradients\n",
    "        optimizer.zero_grad()\n",
    "       \n",
    "        # forward + backward + optimize\n",
    "        pred = model(X)\n",
    "        loss = loss_fn(pred, y.unsqueeze(-1))\n",
    "        loss_values.append(loss.item())\n",
    "        loss.backward()\n",
    "        optimizer.step()"
   ]
  },
  {
   "cell_type": "code",
   "execution_count": 10,
   "id": "d6e7ebbf",
   "metadata": {},
   "outputs": [
    {
     "data": {
      "image/png": "[encoded data removed]",
      "text/plain": [
       "<Figure size 800x500 with 1 Axes>"
      ]
     },
     "metadata": {},
     "output_type": "display_data"
    }
   ],
   "source": [
    "step = np.linspace(0, 50, 37500)\n",
    "\n",
    "fig, ax = plt.subplots(figsize=(8,5))\n",
    "plt.plot(step, np.array(loss_values))\n",
    "plt.title(\"Step-wise Loss\")\n",
    "plt.xlabel(\"Epochs\")\n",
    "plt.ylabel(\"Loss\")\n",
    "#plt.yscale('log')\n",
    "plt.show()"
   ]
  },
  {
   "cell_type": "code",
   "execution_count": 11,
   "id": "b0a10e98",
   "metadata": {},
   "outputs": [
    {
     "name": "stdout",
     "output_type": "stream",
     "text": [
      "Accuracy of the network on the 7500 train instances: 59%\n"
     ]
    }
   ],
   "source": [
    "y_pred, y_test,correct,total = [],[],0,0\n",
    "with torch.no_grad():\n",
    "    for X, y in train_dataloader:\n",
    "        outputs = model(X)\n",
    "        outputs = np.array(outputs)\n",
    "        for i in range(len(outputs)):\n",
    "            y_pred.append(int(round(outputs[i][0])))\n",
    "            if(int(round(outputs[i][0]))==y[i]):\n",
    "                correct+=1\n",
    "            y_test.append(y[i])\n",
    "        total += len(y)\n",
    "print(f'Accuracy of the network on the 7500 train instances: {100 * correct // total}%')"
   ]
  },
  {
   "cell_type": "code",
   "execution_count": 12,
   "id": "240c38bb",
   "metadata": {},
   "outputs": [
    {
     "name": "stdout",
     "output_type": "stream",
     "text": [
      "Accuracy of the network on the 2500 test instances: 61%\n"
     ]
    }
   ],
   "source": [
    "y_pred, y_test,correct,total = [],[],0,0\n",
    "with torch.no_grad():\n",
    "    for X, y in test_dataloader:\n",
    "        outputs = model(X)\n",
    "        outputs = np.array(outputs)\n",
    "        for i in range(len(outputs)):\n",
    "            y_pred.append(int(round(outputs[i][0])))\n",
    "            if(int(round(outputs[i][0]))==y[i]):\n",
    "                correct+=1\n",
    "            y_test.append(y[i])\n",
    "        total += len(y)\n",
    "print(f'Accuracy of the network on the 2500 test instances: {100 * correct // total}%')"
   ]
  },
  {
   "cell_type": "code",
   "execution_count": 13,
   "id": "f2987239",
   "metadata": {},
   "outputs": [
    {
     "data": {
      "image/png": "[encoded data removed]",
      "text/plain": [
       "<Figure size 800x500 with 1 Axes>"
      ]
     },
     "metadata": {},
     "output_type": "display_data"
    }
   ],
   "source": [
    "cf_matrix = confusion_matrix(y_test, y_pred)\n",
    "\n",
    "plt.subplots(figsize=(8, 5))\n",
    "\n",
    "sns.heatmap(cf_matrix, annot=True, cbar=False, fmt=\"g\",cmap = 'BuPu')\n",
    "\n",
    "plt.show()"
   ]
  },
  {
   "cell_type": "code",
   "execution_count": null,
   "id": "5f9743a6",
   "metadata": {},
   "outputs": [],
   "source": []
  }
 ],
 "metadata": {
  "kernelspec": {
   "display_name": "Pytorchgogogo",
   "language": "python",
   "name": "pytorchgogogo"
  },
  "language_info": {
   "codemirror_mode": {
    "name": "ipython",
    "version": 3
   },
   "file_extension": ".py",
   "mimetype": "text/x-python",
   "name": "python",
   "nbconvert_exporter": "python",
   "pygments_lexer": "ipython3",
   "version": "3.9.13"
  }
 },
 "nbformat": 4,
 "nbformat_minor": 5
}
